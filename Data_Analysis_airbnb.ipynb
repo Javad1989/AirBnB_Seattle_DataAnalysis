{
 "cells": [
  {
   "cell_type": "markdown",
   "metadata": {},
   "source": [
    "## AirBnB Seattle Data Analysis\n",
    "\n",
    "In this project, there are three bussiness questions which will be tried to answered using the Seattle Data provided by AirBnB website. \n",
    "These questions are as following: \n",
    "\n",
    "1. What features most influence on the price of the properties?\n",
    "\n",
    "2. which streets in Seattle host more guests than other streets? What is the average price of these popular streets? what time  they are more busier?\n",
    "\n",
    "3. How many properties are available during the Year?? How prices change during the calendar period??\n",
    "\n",
    "In order to answer the above questions, the **CRISP-DM(Cross Industry Standard Process for Data Mining)** is followed while analysing data. \n",
    "\n",
    "The steps for this project are as following:"
   ]
  },
  {
   "cell_type": "markdown",
   "metadata": {},
   "source": [
    "We import the required modules and libraries and also read our three csv data files which are **claendar**, **reviews** and **listings** for the city Seattle:"
   ]
  },
  {
   "cell_type": "code",
   "execution_count": 14,
   "metadata": {},
   "outputs": [
    {
     "data": {
      "text/html": [
       "<div>\n",
       "<style scoped>\n",
       "    .dataframe tbody tr th:only-of-type {\n",
       "        vertical-align: middle;\n",
       "    }\n",
       "\n",
       "    .dataframe tbody tr th {\n",
       "        vertical-align: top;\n",
       "    }\n",
       "\n",
       "    .dataframe thead th {\n",
       "        text-align: right;\n",
       "    }\n",
       "</style>\n",
       "<table border=\"1\" class=\"dataframe\">\n",
       "  <thead>\n",
       "    <tr style=\"text-align: right;\">\n",
       "      <th></th>\n",
       "      <th>id</th>\n",
       "      <th>listing_url</th>\n",
       "      <th>scrape_id</th>\n",
       "      <th>last_scraped</th>\n",
       "      <th>name</th>\n",
       "      <th>summary</th>\n",
       "      <th>space</th>\n",
       "      <th>description</th>\n",
       "      <th>experiences_offered</th>\n",
       "      <th>neighborhood_overview</th>\n",
       "      <th>...</th>\n",
       "      <th>review_scores_value</th>\n",
       "      <th>requires_license</th>\n",
       "      <th>license</th>\n",
       "      <th>jurisdiction_names</th>\n",
       "      <th>instant_bookable</th>\n",
       "      <th>cancellation_policy</th>\n",
       "      <th>require_guest_profile_picture</th>\n",
       "      <th>require_guest_phone_verification</th>\n",
       "      <th>calculated_host_listings_count</th>\n",
       "      <th>reviews_per_month</th>\n",
       "    </tr>\n",
       "  </thead>\n",
       "  <tbody>\n",
       "    <tr>\n",
       "      <td>0</td>\n",
       "      <td>241032</td>\n",
       "      <td>https://www.airbnb.com/rooms/241032</td>\n",
       "      <td>20160104002432</td>\n",
       "      <td>2016-01-04</td>\n",
       "      <td>Stylish Queen Anne Apartment</td>\n",
       "      <td>NaN</td>\n",
       "      <td>Make your self at home in this charming one-be...</td>\n",
       "      <td>Make your self at home in this charming one-be...</td>\n",
       "      <td>none</td>\n",
       "      <td>NaN</td>\n",
       "      <td>...</td>\n",
       "      <td>10.0</td>\n",
       "      <td>f</td>\n",
       "      <td>NaN</td>\n",
       "      <td>WASHINGTON</td>\n",
       "      <td>f</td>\n",
       "      <td>moderate</td>\n",
       "      <td>f</td>\n",
       "      <td>f</td>\n",
       "      <td>2</td>\n",
       "      <td>4.07</td>\n",
       "    </tr>\n",
       "    <tr>\n",
       "      <td>1</td>\n",
       "      <td>953595</td>\n",
       "      <td>https://www.airbnb.com/rooms/953595</td>\n",
       "      <td>20160104002432</td>\n",
       "      <td>2016-01-04</td>\n",
       "      <td>Bright &amp; Airy Queen Anne Apartment</td>\n",
       "      <td>Chemically sensitive? We've removed the irrita...</td>\n",
       "      <td>Beautiful, hypoallergenic apartment in an extr...</td>\n",
       "      <td>Chemically sensitive? We've removed the irrita...</td>\n",
       "      <td>none</td>\n",
       "      <td>Queen Anne is a wonderful, truly functional vi...</td>\n",
       "      <td>...</td>\n",
       "      <td>10.0</td>\n",
       "      <td>f</td>\n",
       "      <td>NaN</td>\n",
       "      <td>WASHINGTON</td>\n",
       "      <td>f</td>\n",
       "      <td>strict</td>\n",
       "      <td>t</td>\n",
       "      <td>t</td>\n",
       "      <td>6</td>\n",
       "      <td>1.48</td>\n",
       "    </tr>\n",
       "    <tr>\n",
       "      <td>2</td>\n",
       "      <td>3308979</td>\n",
       "      <td>https://www.airbnb.com/rooms/3308979</td>\n",
       "      <td>20160104002432</td>\n",
       "      <td>2016-01-04</td>\n",
       "      <td>New Modern House-Amazing water view</td>\n",
       "      <td>New modern house built in 2013.  Spectacular s...</td>\n",
       "      <td>Our house is modern, light and fresh with a wa...</td>\n",
       "      <td>New modern house built in 2013.  Spectacular s...</td>\n",
       "      <td>none</td>\n",
       "      <td>Upper Queen Anne is a charming neighborhood fu...</td>\n",
       "      <td>...</td>\n",
       "      <td>10.0</td>\n",
       "      <td>f</td>\n",
       "      <td>NaN</td>\n",
       "      <td>WASHINGTON</td>\n",
       "      <td>f</td>\n",
       "      <td>strict</td>\n",
       "      <td>f</td>\n",
       "      <td>f</td>\n",
       "      <td>2</td>\n",
       "      <td>1.15</td>\n",
       "    </tr>\n",
       "    <tr>\n",
       "      <td>3</td>\n",
       "      <td>7421966</td>\n",
       "      <td>https://www.airbnb.com/rooms/7421966</td>\n",
       "      <td>20160104002432</td>\n",
       "      <td>2016-01-04</td>\n",
       "      <td>Queen Anne Chateau</td>\n",
       "      <td>A charming apartment that sits atop Queen Anne...</td>\n",
       "      <td>NaN</td>\n",
       "      <td>A charming apartment that sits atop Queen Anne...</td>\n",
       "      <td>none</td>\n",
       "      <td>NaN</td>\n",
       "      <td>...</td>\n",
       "      <td>NaN</td>\n",
       "      <td>f</td>\n",
       "      <td>NaN</td>\n",
       "      <td>WASHINGTON</td>\n",
       "      <td>f</td>\n",
       "      <td>flexible</td>\n",
       "      <td>f</td>\n",
       "      <td>f</td>\n",
       "      <td>1</td>\n",
       "      <td>NaN</td>\n",
       "    </tr>\n",
       "    <tr>\n",
       "      <td>4</td>\n",
       "      <td>278830</td>\n",
       "      <td>https://www.airbnb.com/rooms/278830</td>\n",
       "      <td>20160104002432</td>\n",
       "      <td>2016-01-04</td>\n",
       "      <td>Charming craftsman 3 bdm house</td>\n",
       "      <td>Cozy family craftman house in beautiful neighb...</td>\n",
       "      <td>Cozy family craftman house in beautiful neighb...</td>\n",
       "      <td>Cozy family craftman house in beautiful neighb...</td>\n",
       "      <td>none</td>\n",
       "      <td>We are in the beautiful neighborhood of Queen ...</td>\n",
       "      <td>...</td>\n",
       "      <td>9.0</td>\n",
       "      <td>f</td>\n",
       "      <td>NaN</td>\n",
       "      <td>WASHINGTON</td>\n",
       "      <td>f</td>\n",
       "      <td>strict</td>\n",
       "      <td>f</td>\n",
       "      <td>f</td>\n",
       "      <td>1</td>\n",
       "      <td>0.89</td>\n",
       "    </tr>\n",
       "  </tbody>\n",
       "</table>\n",
       "<p>5 rows × 92 columns</p>\n",
       "</div>"
      ],
      "text/plain": [
       "        id                           listing_url       scrape_id last_scraped  \\\n",
       "0   241032   https://www.airbnb.com/rooms/241032  20160104002432   2016-01-04   \n",
       "1   953595   https://www.airbnb.com/rooms/953595  20160104002432   2016-01-04   \n",
       "2  3308979  https://www.airbnb.com/rooms/3308979  20160104002432   2016-01-04   \n",
       "3  7421966  https://www.airbnb.com/rooms/7421966  20160104002432   2016-01-04   \n",
       "4   278830   https://www.airbnb.com/rooms/278830  20160104002432   2016-01-04   \n",
       "\n",
       "                                  name  \\\n",
       "0         Stylish Queen Anne Apartment   \n",
       "1   Bright & Airy Queen Anne Apartment   \n",
       "2  New Modern House-Amazing water view   \n",
       "3                   Queen Anne Chateau   \n",
       "4       Charming craftsman 3 bdm house   \n",
       "\n",
       "                                             summary  \\\n",
       "0                                                NaN   \n",
       "1  Chemically sensitive? We've removed the irrita...   \n",
       "2  New modern house built in 2013.  Spectacular s...   \n",
       "3  A charming apartment that sits atop Queen Anne...   \n",
       "4  Cozy family craftman house in beautiful neighb...   \n",
       "\n",
       "                                               space  \\\n",
       "0  Make your self at home in this charming one-be...   \n",
       "1  Beautiful, hypoallergenic apartment in an extr...   \n",
       "2  Our house is modern, light and fresh with a wa...   \n",
       "3                                                NaN   \n",
       "4  Cozy family craftman house in beautiful neighb...   \n",
       "\n",
       "                                         description experiences_offered  \\\n",
       "0  Make your self at home in this charming one-be...                none   \n",
       "1  Chemically sensitive? We've removed the irrita...                none   \n",
       "2  New modern house built in 2013.  Spectacular s...                none   \n",
       "3  A charming apartment that sits atop Queen Anne...                none   \n",
       "4  Cozy family craftman house in beautiful neighb...                none   \n",
       "\n",
       "                               neighborhood_overview  ... review_scores_value  \\\n",
       "0                                                NaN  ...                10.0   \n",
       "1  Queen Anne is a wonderful, truly functional vi...  ...                10.0   \n",
       "2  Upper Queen Anne is a charming neighborhood fu...  ...                10.0   \n",
       "3                                                NaN  ...                 NaN   \n",
       "4  We are in the beautiful neighborhood of Queen ...  ...                 9.0   \n",
       "\n",
       "  requires_license license jurisdiction_names instant_bookable  \\\n",
       "0                f     NaN         WASHINGTON                f   \n",
       "1                f     NaN         WASHINGTON                f   \n",
       "2                f     NaN         WASHINGTON                f   \n",
       "3                f     NaN         WASHINGTON                f   \n",
       "4                f     NaN         WASHINGTON                f   \n",
       "\n",
       "  cancellation_policy  require_guest_profile_picture  \\\n",
       "0            moderate                              f   \n",
       "1              strict                              t   \n",
       "2              strict                              f   \n",
       "3            flexible                              f   \n",
       "4              strict                              f   \n",
       "\n",
       "  require_guest_phone_verification calculated_host_listings_count  \\\n",
       "0                                f                              2   \n",
       "1                                t                              6   \n",
       "2                                f                              2   \n",
       "3                                f                              1   \n",
       "4                                f                              1   \n",
       "\n",
       "  reviews_per_month  \n",
       "0              4.07  \n",
       "1              1.48  \n",
       "2              1.15  \n",
       "3               NaN  \n",
       "4              0.89  \n",
       "\n",
       "[5 rows x 92 columns]"
      ]
     },
     "execution_count": 14,
     "metadata": {},
     "output_type": "execute_result"
    }
   ],
   "source": [
    "import numpy as np\n",
    "import pandas as pd\n",
    "import matplotlib.pyplot as plt\n",
    "from sklearn.linear_model import LinearRegression\n",
    "from sklearn.linear_model import Ridge\n",
    "from sklearn.ensemble import RandomForestRegressor\n",
    "from sklearn.model_selection import train_test_split\n",
    "from sklearn.metrics import r2_score, mean_squared_error,mean_absolute_error\n",
    "import seaborn as sns\n",
    "from collections import defaultdict\n",
    "import itertools\n",
    "%matplotlib inline\n",
    "\n",
    "df = pd.read_csv(\"listings_Seattle.csv\")\n",
    "df_calendar = pd.read_csv(\"calendar_Seattle.csv\")\n",
    "df_review = pd.read_csv(\"reviews_Seattle.csv\")\n",
    "df.head()"
   ]
  },
  {
   "cell_type": "code",
   "execution_count": null,
   "metadata": {},
   "outputs": [],
   "source": []
  },
  {
   "cell_type": "markdown",
   "metadata": {},
   "source": [
    "#### Understand Data:\n"
   ]
  },
  {
   "cell_type": "code",
   "execution_count": 15,
   "metadata": {},
   "outputs": [
    {
     "name": "stdout",
     "output_type": "stream",
     "text": [
      "the number of colums and raws of the listings:  (3818, 92)\n",
      "the number of the columns and raws of the calendar data is:  (1308890, 4)\n"
     ]
    }
   ],
   "source": [
    "print(\"the number of colums and raws of the listings: \",df.shape)\n",
    "print(\"the number of the columns and raws of the calendar data is: \", df_calendar.shape)"
   ]
  },
  {
   "cell_type": "code",
   "execution_count": 16,
   "metadata": {},
   "outputs": [
    {
     "name": "stdout",
     "output_type": "stream",
     "text": [
      "<class 'pandas.core.frame.DataFrame'>\n",
      "RangeIndex: 3818 entries, 0 to 3817\n",
      "Data columns (total 92 columns):\n",
      "id                                  3818 non-null int64\n",
      "listing_url                         3818 non-null object\n",
      "scrape_id                           3818 non-null int64\n",
      "last_scraped                        3818 non-null object\n",
      "name                                3818 non-null object\n",
      "summary                             3641 non-null object\n",
      "space                               3249 non-null object\n",
      "description                         3818 non-null object\n",
      "experiences_offered                 3818 non-null object\n",
      "neighborhood_overview               2786 non-null object\n",
      "notes                               2212 non-null object\n",
      "transit                             2884 non-null object\n",
      "thumbnail_url                       3498 non-null object\n",
      "medium_url                          3498 non-null object\n",
      "picture_url                         3818 non-null object\n",
      "xl_picture_url                      3498 non-null object\n",
      "host_id                             3818 non-null int64\n",
      "host_url                            3818 non-null object\n",
      "host_name                           3816 non-null object\n",
      "host_since                          3816 non-null object\n",
      "host_location                       3810 non-null object\n",
      "host_about                          2959 non-null object\n",
      "host_response_time                  3295 non-null object\n",
      "host_response_rate                  3295 non-null object\n",
      "host_acceptance_rate                3045 non-null object\n",
      "host_is_superhost                   3816 non-null object\n",
      "host_thumbnail_url                  3816 non-null object\n",
      "host_picture_url                    3816 non-null object\n",
      "host_neighbourhood                  3518 non-null object\n",
      "host_listings_count                 3816 non-null float64\n",
      "host_total_listings_count           3816 non-null float64\n",
      "host_verifications                  3818 non-null object\n",
      "host_has_profile_pic                3816 non-null object\n",
      "host_identity_verified              3816 non-null object\n",
      "street                              3818 non-null object\n",
      "neighbourhood                       3402 non-null object\n",
      "neighbourhood_cleansed              3818 non-null object\n",
      "neighbourhood_group_cleansed        3818 non-null object\n",
      "city                                3818 non-null object\n",
      "state                               3818 non-null object\n",
      "zipcode                             3811 non-null object\n",
      "market                              3818 non-null object\n",
      "smart_location                      3818 non-null object\n",
      "country_code                        3818 non-null object\n",
      "country                             3818 non-null object\n",
      "latitude                            3818 non-null float64\n",
      "longitude                           3818 non-null float64\n",
      "is_location_exact                   3818 non-null object\n",
      "property_type                       3817 non-null object\n",
      "room_type                           3818 non-null object\n",
      "accommodates                        3818 non-null int64\n",
      "bathrooms                           3802 non-null float64\n",
      "bedrooms                            3812 non-null float64\n",
      "beds                                3817 non-null float64\n",
      "bed_type                            3818 non-null object\n",
      "amenities                           3818 non-null object\n",
      "square_feet                         97 non-null float64\n",
      "price                               3818 non-null object\n",
      "weekly_price                        2009 non-null object\n",
      "monthly_price                       1517 non-null object\n",
      "security_deposit                    1866 non-null object\n",
      "cleaning_fee                        2788 non-null object\n",
      "guests_included                     3818 non-null int64\n",
      "extra_people                        3818 non-null object\n",
      "minimum_nights                      3818 non-null int64\n",
      "maximum_nights                      3818 non-null int64\n",
      "calendar_updated                    3818 non-null object\n",
      "has_availability                    3818 non-null object\n",
      "availability_30                     3818 non-null int64\n",
      "availability_60                     3818 non-null int64\n",
      "availability_90                     3818 non-null int64\n",
      "availability_365                    3818 non-null int64\n",
      "calendar_last_scraped               3818 non-null object\n",
      "number_of_reviews                   3818 non-null int64\n",
      "first_review                        3191 non-null object\n",
      "last_review                         3191 non-null object\n",
      "review_scores_rating                3171 non-null float64\n",
      "review_scores_accuracy              3160 non-null float64\n",
      "review_scores_cleanliness           3165 non-null float64\n",
      "review_scores_checkin               3160 non-null float64\n",
      "review_scores_communication         3167 non-null float64\n",
      "review_scores_location              3163 non-null float64\n",
      "review_scores_value                 3162 non-null float64\n",
      "requires_license                    3818 non-null object\n",
      "license                             0 non-null float64\n",
      "jurisdiction_names                  3818 non-null object\n",
      "instant_bookable                    3818 non-null object\n",
      "cancellation_policy                 3818 non-null object\n",
      "require_guest_profile_picture       3818 non-null object\n",
      "require_guest_phone_verification    3818 non-null object\n",
      "calculated_host_listings_count      3818 non-null int64\n",
      "reviews_per_month                   3191 non-null float64\n",
      "dtypes: float64(17), int64(13), object(62)\n",
      "memory usage: 2.7+ MB\n"
     ]
    }
   ],
   "source": [
    "# overview of the listing data and understand how to clean it. \n",
    "df.info()"
   ]
  },
  {
   "cell_type": "markdown",
   "metadata": {},
   "source": [
    "#### Clean Data\n",
    "\n",
    "#### In order to clean listings data:\n",
    "- The listings data has 5 columns which are numerical but they are needed to be converted from object type to numericals. \n",
    "\n",
    "- There are some boolean value columns which are determined by t and f for **True** and **False** respectively. we replace them with  associated **0** and **1** values. \n",
    "\n",
    "- There is a **street** column which is address of the properties and as we need their street name, we extract their street name and put on a new column **street_name**. \n",
    "\n",
    "- There is a date column **last_review** and as it is object type we convert them to **date time** objects in order to work better with them.\n",
    "\n",
    "- At this step we can extract all the **numercial valued columns** which are **float8* and **integer** types select_dtypes() function. \n",
    "\n",
    "- It is also good to remove columns with a lot of nan values.  So we put the threshold value to be 0.75 and remove all the columns with more than **%75 nan values**. \n",
    "\n",
    "- We then **impute the missing values** with the **mode or mean** of the columns. we fill 4 columns with their mode and fill the rest with mean of the columns\n",
    "\n",
    "- The last step is to use **categorical values*. In order to use them we make them **dummy variables** and add them to our numerical dataframe. "
   ]
  },
  {
   "cell_type": "code",
   "execution_count": 17,
   "metadata": {},
   "outputs": [],
   "source": [
    "def clean_data(df):\n",
    "    \"\"\"\n",
    "    INPUT\n",
    "    df - pandas dataframe \n",
    "    \n",
    "    OUTPUT\n",
    "    (df_numerical,df_cat_numeric) - tuple of the cleaned numerical pandas dataframe which is ready for statistical models.\n",
    "    the first data is cleaned numerical data and second one contains the dummy categorial variables as well. \n",
    "    \n",
    "    \"\"\"\n",
    "    # steps to clean data\n",
    "    \n",
    "    #1. the columns to convert from object types to floats\n",
    "    df['zipcode']=df['zipcode'].replace('99\\n98122','98122')\n",
    "    list_df = ['price','security_deposit','cleaning_fee','extra_people','zipcode']\n",
    "    for obj in list_df:\n",
    "        df[obj] = df[obj].map(lambda x: x.replace('$','').replace(',',''),na_action='ignore')\n",
    "        df[obj] = df[obj].astype(float)\n",
    "        \n",
    "    # 2. convert boolean columns with strings (f and t) inputs  to 0 and 1 integer values \n",
    "    list_boolean =[]\n",
    "    for cols in df.columns:\n",
    "        if len(df[cols].value_counts().index)== 2:\n",
    "            list_boolean.append(cols)\n",
    "    for cols in list_boolean:\n",
    "        df[cols] =  df[cols].replace({'f':0,'t':1})\n",
    "        \n",
    "    # 3. add new column street_name which is classified based on the street name of each property\n",
    "    data = []\n",
    "    string = df['street'].values\n",
    "    for st in string:\n",
    "        y = \"\".join(itertools.takewhile(lambda x: x!=\",\", st))\n",
    "        data.append(y)\n",
    "    df['street_name'] = data    \n",
    "    \n",
    "    # 4. convert last_review column to datetime object  \n",
    "    df['last_review'] =  pd.to_datetime(df['last_review'])\n",
    "\n",
    "    # 5.  select all the columns with float and integer values \n",
    "    df_numeric = df.select_dtypes(include = ['number'])\n",
    "    \n",
    "    # 6. drop all the columns with more than %75 of their data with nan values \n",
    "    df_numeric = df_numeric.dropna(thresh = 0.75,axis=1)\n",
    "    \n",
    "    # 7. fill the missed column values with mode of their associated columns.\n",
    "    fill_mode  = lambda col:col.fillna(col.mode()[0])\n",
    "    mode_fills = ['accommodates','bathrooms','bedrooms','beds']\n",
    "    df_numeric[mode_fills] = df_numeric[mode_fills].apply(fill_mode,axis=0)\n",
    "    \n",
    "    # 8. fill the missed values of the remaining columns with the mean of their associated columns \n",
    "    fill_mean  = lambda col:col.fillna(col.mean())\n",
    "    df_numeric = df_numeric.apply(fill_mean,axis=0)\n",
    "    \n",
    "    # 9. convert categorical variables to dummies and then include the dummies in the new data set df_numeric\n",
    "    cat_cols = ['cancellation_policy','room_type','property_type',\n",
    "                'host_identity_verified','host_has_profile_pic',\n",
    "                'neighbourhood','host_response_time',\n",
    "                'street_name','last_review'] # required categorical columns from df\n",
    "    dummy_df = df[cat_cols]\n",
    "    for col in  cat_cols:\n",
    "        dummy_df = pd.concat([dummy_df.drop(col, axis=1), \n",
    "                              pd.get_dummies(dummy_df[col], prefix=col, prefix_sep='_', \n",
    "                                             drop_first=True, dummy_na=False)], axis=1)\n",
    "            \n",
    "    df_cat_numeric = df_numeric.join(dummy_df) #  join dummies and numeric data\n",
    "    df_cat_numeric = df_cat_numeric.drop(['id','scrape_id','host_id'],axis=1) # drop the unnecessary columns  \n",
    "\n",
    "    return df_numeric,df_cat_numeric\n",
    "\n",
    "df_numerical,df_cleaned  = clean_data(df)"
   ]
  },
  {
   "cell_type": "markdown",
   "metadata": {},
   "source": [
    "#### Predict price of the properties\n",
    "We use two models to predict prices:\n",
    "\n",
    "**1. Ridge Regression**.\n",
    "\n",
    "**2. Random Forest Regression**.\n",
    "\n",
    "There are two functions which is used for these predictions:\n",
    "\n",
    "- The data is split to **explanotary** variables(matrix) and **response** variables( vector).\n",
    "- we then split data to train and test parts. \n",
    "- the model is **instantiated** and **fitted** with the **train** data.\n",
    "- the prices are predicted based on the model and **r-square values** are provided using **sklearn** library. \n",
    "\n",
    "There are two r_squared values returned from functions which are related to **train data** and **test data** scores. As much as these values are identical and close to **1**, we have better prediction from our model. "
   ]
  },
  {
   "cell_type": "code",
   "execution_count": 18,
   "metadata": {},
   "outputs": [],
   "source": [
    "def predict_with_Ridge(df):\n",
    "    \"\"\"\n",
    "    INPUT\n",
    "    df - Pandas Dataframe( the input data set is cleaned data ready for our model)\n",
    "    \n",
    "    OUTPUT\n",
    "    r2_score(y_train,y_predict_train),r2_score(y_test,y_predict_test) - the tuple of r-squared values, \n",
    "    first one measures r_square between training response vector and predicted ones based\n",
    "    on training data set and second one measures r_square based on test response vector and predicted ones. \n",
    "    \n",
    "    \"\"\"\n",
    "    #Split into explanatory and response variables\n",
    "    X = df.drop('price',axis=1)\n",
    "    y = df['price']\n",
    "\n",
    "    #Split into train and test\n",
    "    x_train,x_test,y_train,y_test = train_test_split(X,y,test_size=0.3,random_state=42)\n",
    "    \n",
    "    lm_model = Ridge()  # Instantiate with Ridge model\n",
    "    lm_model.fit(x_train,y_train) # fit\n",
    "    \n",
    "    #Predict the model and then return scores for the model. \n",
    "    y_predict_train = lm_model.predict(x_train)\n",
    "    y_predict_test = lm_model.predict(x_test) \n",
    "    \n",
    "    return r2_score(y_train,y_predict_train),r2_score(y_test,y_predict_test)"
   ]
  },
  {
   "cell_type": "code",
   "execution_count": 19,
   "metadata": {},
   "outputs": [],
   "source": [
    "def predict_with_RandomForest(df):\n",
    "    \n",
    "    #Split into explanatory and response variables\n",
    "    X = df.drop('price',axis=1)\n",
    "    y = df['price']\n",
    "\n",
    "    #Split into train and test\n",
    "    x_train,x_test,y_train,y_test = train_test_split(X,y,test_size=0.3,random_state=42)\n",
    "    \n",
    "    model_rf = RandomForestRegressor(n_estimators=100, random_state=0)  # Instantiate with RandomForestRegressor \n",
    "\n",
    "    model_rf.fit(x_train, y_train) # fit\n",
    "    \n",
    "    #Predict wth Random Forest Regressor and return the scores for the model\n",
    "    preds_rf = model_rf.predict(x_test)\n",
    "    preds_rf_train = model_rf.predict(x_train)\n",
    "\n",
    "    return r2_score(y_train,preds_rf_train),r2_score(y_test,preds_rf)"
   ]
  },
  {
   "cell_type": "code",
   "execution_count": 20,
   "metadata": {},
   "outputs": [
    {
     "name": "stdout",
     "output_type": "stream",
     "text": [
      "Ridge Regression: the r2_score between train  and predicted train is 0.8178805550761346 and test  with predicted test is 0.5934633580752056\n"
     ]
    }
   ],
   "source": [
    "print(\"Ridge Regression: the r2_score between train  and predicted train is {} and test  with predicted test is {}\"\n",
    "      .format(predict_with_Ridge(df_cleaned)[0],predict_with_Ridge(df_cleaned)[1]))"
   ]
  },
  {
   "cell_type": "code",
   "execution_count": 21,
   "metadata": {},
   "outputs": [
    {
     "name": "stdout",
     "output_type": "stream",
     "text": [
      "RandomForest Regression: the r2_score between train  and predicted train is 0.9387925470664666 and test  with predicted test is 0.6359849204918233\n"
     ]
    }
   ],
   "source": [
    "print(\"RandomForest Regression: the r2_score between train  and predicted train is {} and test  with predicted test is {}\"\n",
    "      .format(predict_with_RandomForest(df_cleaned)[0],predict_with_RandomForest(df_cleaned)[1]))\n"
   ]
  },
  {
   "cell_type": "markdown",
   "metadata": {},
   "source": [
    "### **In order to get better predictions, the size of the data must be larger as our categorical variables are large and in order to arrive at better accuracy we might need larger sample of data.** "
   ]
  },
  {
   "cell_type": "markdown",
   "metadata": {},
   "source": [
    "#### Answer to question 1:\n",
    "\n",
    "**What features most influence on the price of the properties?**\n",
    "\n",
    "In order to find out how different **features** affect the **price** of the properties we use their **correlation** with **price** column:\n",
    "\n",
    "- The correlation between column **price** and all other columns of the cleaned numerical data is measured and sorted.\n",
    "\n",
    "- The heatmap from **seaborn** library represents the top 10 highest features which influence on the property price. Not surprisingly, **cleaning_fee** , **accommodates**(number of people who are accepted), **bedrooms**, **beds**, **size** and number of **bathrooms** have highest correlations with price. As there are not very negative correlations(close to -1), we only considered postive ones. \n"
   ]
  },
  {
   "cell_type": "code",
   "execution_count": 22,
   "metadata": {},
   "outputs": [],
   "source": [
    "corr = []  # list to save calculated correlations\n",
    "features = [] # Coresponding features to save in a list \n",
    "for col in df_numerical.columns:\n",
    "    corr.append(df_numerical[['price',col]].corr().iloc[0].iloc[1]) \n",
    "    features.append(col)\n",
    "    \n",
    "# build a data frame to match the correlation of price with coresponding feature \n",
    "corr_with_price = pd.DataFrame({\"correlation\": corr}, index = features) \n",
    "corr_with_price = corr_with_price.dropna()\n",
    "corr_with_price = corr_with_price.sort_values(ascending = False, by = 'correlation')# sorted values"
   ]
  },
  {
   "cell_type": "markdown",
   "metadata": {},
   "source": [
    " **The correlation of price with itself is obviously 1 and we don't need it. The other 9 features show how they are correlated with price.** "
   ]
  },
  {
   "cell_type": "code",
   "execution_count": 23,
   "metadata": {},
   "outputs": [
    {
     "data": {
      "image/png": "[encoded data removed]",
      "text/plain": [
       "<Figure size 720x720 with 2 Axes>"
      ]
     },
     "metadata": {
      "needs_background": "light"
     },
     "output_type": "display_data"
    }
   ],
   "source": [
    "fig, ax = plt.subplots(figsize=(10,10))  \n",
    "sns.heatmap(corr_with_price.head(10), annot=True, fmt=\".2f\", linewidth = 0.5, ax =ax);"
   ]
  },
  {
   "cell_type": "markdown",
   "metadata": {},
   "source": [
    "   #### Answer to question 2:"
   ]
  },
  {
   "cell_type": "markdown",
   "metadata": {},
   "source": [
    "\n",
    "\n",
    "**How many properties are available during the Year?? How prices change during the calendar period??**\n",
    "\n",
    "To answer  this question we need to use **calendar** data. \n"
   ]
  },
  {
   "cell_type": "code",
   "execution_count": null,
   "metadata": {},
   "outputs": [],
   "source": []
  },
  {
   "cell_type": "markdown",
   "metadata": {},
   "source": []
  },
  {
   "cell_type": "code",
   "execution_count": 24,
   "metadata": {},
   "outputs": [
    {
     "data": {
      "text/plain": [
       "Text(0, 0.5, 'Price')"
      ]
     },
     "execution_count": 24,
     "metadata": {},
     "output_type": "execute_result"
    },
    {
     "data": {
      "image/png": "[encoded data removed]",
      "text/plain": [
       "<Figure size 864x576 with 1 Axes>"
      ]
     },
     "metadata": {
      "needs_background": "light"
     },
     "output_type": "display_data"
    }
   ],
   "source": [
    "# the price column should be converted to float type\n",
    "df_calendar['price'] = df_calendar['price'].map(lambda x: x.replace('$','').replace(',',''),na_action='ignore')\n",
    "df_calendar['price'] = df_calendar['price'].astype(float)\n",
    "\n",
    "# convert boolean columns with strings (f and t) inputs  to 0 and 1 integer values \n",
    "df_calendar['available'] = df_calendar['available'].replace({'f':0,'t':1})\n",
    "\n",
    "# the index is set to be date column \n",
    "df_calendar.index = df_calendar['date']\n",
    "df_calendar = df_calendar.drop('date',axis=1)\n",
    "\n",
    "# the date index is object type, so it should be converted to date_time index\n",
    "df_calendar.index = pd.to_datetime(df_calendar.index)\n",
    "\n",
    "# the data is resampled from daily to monthly data in order to get better plot from price change\n",
    "df1 = df_calendar.resample('M').mean() #the average price of the whole properties over each month\n",
    "\n",
    "# plot\n",
    "df1['price'].plot(figsize = (12,8))\n",
    "plt.title(\"Price Change Over Calendar Period\")\n",
    "plt.xlabel('Date')\n",
    "plt.ylabel(\"Price\")"
   ]
  },
  {
   "cell_type": "markdown",
   "metadata": {},
   "source": [
    "It can bee seen that the average **price** is changing over time and it depends on the season and holidays. In summer time specially **September** it is more expensive as **demand** is high and it **drops** as we go to autumn and **winter**. In **April** it goes up again as we have Easter holiday and demand is again becomes high and during **summer** time on average the price of the properties are higher. \n",
    "\n",
    "The price average range is between **180 to 250** USD. "
   ]
  },
  {
   "cell_type": "code",
   "execution_count": 29,
   "metadata": {},
   "outputs": [
    {
     "data": {
      "text/plain": [
       "<matplotlib.axes._subplots.AxesSubplot at 0x11eec9790>"
      ]
     },
     "execution_count": 29,
     "metadata": {},
     "output_type": "execute_result"
    },
    {
     "data": {
      "image/png": "[encoded data removed]",
      "text/plain": [
       "<Figure size 864x576 with 1 Axes>"
      ]
     },
     "metadata": {
      "needs_background": "light"
     },
     "output_type": "display_data"
    }
   ],
   "source": [
    "# The whole number of the properties available during the whole data period in 2016 and 2017. \n",
    "date_availabilty = df_calendar.groupby('date')['available'].sum().sort_values(ascending = False) # availability based on date \n",
    "date_availabilty.resample('M').mean().plot(figsize = (12,8),color = 'b') # plot"
   ]
  },
  {
   "cell_type": "markdown",
   "metadata": {},
   "source": [
    " The number of the properties  are available during the period is totally different. In sum up, There are less properties available in Summer as it is the busiest time of the AirBnB. On **January and February**, The number of properties are the highest and they are close to **2000 properties**, but in September it is  less than that. "
   ]
  },
  {
   "cell_type": "markdown",
   "metadata": {},
   "source": [
    "#### Answer to  question 3:\n",
    "\n",
    "- **Which streets in Seattle host more guests than other streets?** \n",
    "- **What is the average price of these popular streets?** \n",
    "- **what time  they are more busier?**\n",
    "\n",
    "\n",
    "\n"
   ]
  },
  {
   "cell_type": "code",
   "execution_count": 26,
   "metadata": {
    "scrolled": true
   },
   "outputs": [
    {
     "data": {
      "text/plain": [
       "Text(0, 0.5, 'The Number of Properties')"
      ]
     },
     "execution_count": 26,
     "metadata": {},
     "output_type": "execute_result"
    },
    {
     "data": {
      "image/png": "[encoded data removed]",
      "text/plain": [
       "<Figure size 864x576 with 1 Axes>"
      ]
     },
     "metadata": {
      "needs_background": "light"
     },
     "output_type": "display_data"
    }
   ],
   "source": [
    "street_values = df['street_name'].value_counts().head(20) # the number of properties in Streets(top 20)\n",
    "street_values.plot(kind='bar',figsize = (12,8),color ='r')\n",
    "plt.title(\"Number of Properties in Seattle Streets-Top 20\")\n",
    "plt.xlabel(\"Street name\")\n",
    "plt.ylabel(\"The Number of Properties\")"
   ]
  },
  {
   "cell_type": "markdown",
   "metadata": {},
   "source": [
    "#### It can be seen that 1st Avenue, 2nd Avenue and Western Avenue are the most popular streets in hosting people on AirBnB.\n",
    "\n",
    "   "
   ]
  },
  {
   "cell_type": "markdown",
   "metadata": {},
   "source": [
    "  "
   ]
  },
  {
   "cell_type": "code",
   "execution_count": 27,
   "metadata": {},
   "outputs": [
    {
     "data": {
      "text/plain": [
       "Text(0, 0.5, 'The Average price')"
      ]
     },
     "execution_count": 27,
     "metadata": {},
     "output_type": "execute_result"
    },
    {
     "data": {
      "image/png": "[encoded data removed]",
      "text/plain": [
       "<Figure size 864x576 with 1 Axes>"
      ]
     },
     "metadata": {
      "needs_background": "light"
     },
     "output_type": "display_data"
    }
   ],
   "source": [
    "df_price_st = df.groupby('street_name')['price'].mean().sort_values(ascending =False).head(20) # Price of the Properties in streets- top 20\n",
    "df_price_st.plot(kind = 'bar',color = 'y',figsize  =(12,8)) # plot\n",
    "plt.title(\"Average Price of The streets-Top 20 \")\n",
    "plt.xlabel(\"Street name\")\n",
    "plt.ylabel(\"The Average price\")"
   ]
  },
  {
   "cell_type": "markdown",
   "metadata": {},
   "source": [
    "#### The price of the 20 top expensive streets is represented in the plot above. West Lee Street is the most expensive with close to 1000 USD value for one day stay and 33rd Avenue is the least expensive in this plot. "
   ]
  },
  {
   "cell_type": "code",
   "execution_count": 28,
   "metadata": {},
   "outputs": [
    {
     "name": "stdout",
     "output_type": "stream",
     "text": [
      "17.7579884756417 % of properties are available for the whole year\n"
     ]
    }
   ],
   "source": [
    "# availabality of the the properties during the 365 days period(1 year).  \n",
    "df_availability = df.groupby('id')['availability_365'].sum()/365  # vailabilty of each property in 365 days\n",
    "\n",
    "# we calculate that how many properties are available during the whole year. \n",
    "print(len(df_availability[df_availability == 1])/len(df_availability)*100,\"% of properties are available for the whole year\")"
   ]
  },
  {
   "cell_type": "markdown",
   "metadata": {},
   "source": [
    "#### Based on the above analysis, only 17.5% of the properties in Seattle  are available for the whole year. In other words, they are full-time working on the AirBnB platform. "
   ]
  },
  {
   "cell_type": "code",
   "execution_count": null,
   "metadata": {},
   "outputs": [],
   "source": []
  },
  {
   "cell_type": "markdown",
   "metadata": {},
   "source": [
    "  "
   ]
  }
 ],
 "metadata": {
  "kernelspec": {
   "display_name": "Python 3",
   "language": "python",
   "name": "python3"
  },
  "language_info": {
   "codemirror_mode": {
    "name": "ipython",
    "version": 3
   },
   "file_extension": ".py",
   "mimetype": "text/x-python",
   "name": "python",
   "nbconvert_exporter": "python",
   "pygments_lexer": "ipython3",
   "version": "3.7.4"
  }
 },
 "nbformat": 4,
 "nbformat_minor": 2
}
